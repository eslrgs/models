{
 "cells": [
  {
   "cell_type": "markdown",
   "metadata": {},
   "source": [
    "# EART23202: Landscape evolution modelling"
   ]
  },
  {
   "cell_type": "code",
   "execution_count": null,
   "metadata": {},
   "outputs": [],
   "source": [
    "import matplotlib.pyplot as plt\n",
    "import numpy as np\n",
    "import badlands_companion.toolGeo as simple\n",
    "import badlands_companion.toolTec as tec\n",
    "import badlands_companion.toolSea as tools\n",
    "\n",
    "from badlands.model import Model as badlandsModel\n",
    "from scripts import catchmentErosion as eroCatch\n",
    "\n",
    "%config InlineBackend.figure_format = 'svg' "
   ]
  },
  {
   "cell_type": "markdown",
   "metadata": {},
   "source": [
    "### 1.  surface\n",
    "\n",
    "Now, we move to another surface generation model based on a cosine wave. \n",
    "\n",
    "Here again, we first initialize the extent of the simulation area.\n",
    "\n",
    "The function takes 3 arguments:\n",
    "+ the extent of the domain along the X-axis [xmin,xmax] in metres,\n",
    "+ the extent of the domain along the Y-axis [ymin,ymax] in metres,\n",
    "+ the grid spacing `dx` in metres.\n",
    "\n",
    "For more information regarding the function uncomment the following cell."
   ]
  },
  {
   "cell_type": "code",
   "execution_count": null,
   "metadata": {},
   "outputs": [],
   "source": [
    "wave = simple.toolGeo(extentX=[0., 50000.], extentY=[0., 50000.], dx=500.)\n",
    "wave.Z = wave.buildWave(A = 1000., P = 70000., base = -1000., xcenter = 0.)\n",
    "wave.viewGrid(width = 600, height = 600, zmin = -1000, zmax = 1000, zData = wave.Z, title= 'Export Wave Grid')"
   ]
  },
  {
   "cell_type": "code",
   "execution_count": null,
   "metadata": {},
   "outputs": [],
   "source": [
    "wave.buildGrid(elevation=wave.Z, nameCSV='data/xyz')"
   ]
  },
  {
   "cell_type": "markdown",
   "metadata": {},
   "source": [
    "### 2. uplift"
   ]
  },
  {
   "cell_type": "markdown",
   "metadata": {},
   "source": [
    "The last example show how to create a displacements map with a step function. \n",
    "\n",
    "Here again, we first initialize the extent of the simulation area.\n",
    "\n",
    "The function takes 3 arguments:\n",
    "+ the extent of the domain along the X-axis [xmin,xmax] in metres,\n",
    "+ the extent of the domain along the Y-axis [ymin,ymax] in metres,\n",
    "+ the grid spacing `dx` in metres.\n",
    "\n",
    "For more information regarding the function uncomment the following cell."
   ]
  },
  {
   "cell_type": "code",
   "execution_count": null,
   "metadata": {},
   "outputs": [],
   "source": [
    "stpTec = tec.toolTec(extentX=[0., 50000.], extentY=[0., 50000.], dx = 500.)"
   ]
  },
  {
   "cell_type": "markdown",
   "metadata": {},
   "source": [
    "We create the step function by defining 5 parameters:\n",
    "\n",
    "+ the amplitude of the dispacement `A` in metres,\n",
    "+ the base of the cumulative displacement in metres,\n",
    "+ the extent of the step function *i.e.* min/max (in metres),\n",
    "+ the axis used to build the wave function (either the X or Y axis)\n",
    "\n",
    "For more information regarding the function uncomment the following cell."
   ]
  },
  {
   "cell_type": "code",
   "execution_count": null,
   "metadata": {},
   "outputs": [],
   "source": [
    "stpTec.disp = stpTec.stepTec(A = 500, base=  100., edge1 = 0., edge2 = 1000., axis='X')"
   ]
  },
  {
   "cell_type": "code",
   "execution_count": null,
   "metadata": {},
   "outputs": [],
   "source": [
    "stpTec.dispView(width=600, height=600, dispmin=-1000, dispmax=1000, dispData=stpTec.disp, title='Export Step Map')"
   ]
  },
  {
   "cell_type": "code",
   "execution_count": null,
   "metadata": {},
   "outputs": [],
   "source": [
    "stpTec.dispGrid(disp=stpTec.disp, nameCSV='data/uplift')"
   ]
  },
  {
   "cell_type": "markdown",
   "metadata": {},
   "source": [
    "### 3. sea-level"
   ]
  },
  {
   "cell_type": "markdown",
   "metadata": {},
   "source": [
    "To build the curve you need to provide the following parameters:\n",
    "\n",
    "+ the extent of the simulation time: start/end time (in years)\n",
    "+ the discretisation timestep for sampling the sea level curve (in years)\n",
    "+ the averaged sea level value for starting and ending times (in metres)\n",
    "+ the averaged amplitude of the sea level wave for starting and ending times (in metres)\n",
    "+ the averaged period of the sea level wave for starting and ending times (in years)\n",
    "\n",
    "With the following information a simple curve is created which interpolate linearly the averaged values of sea-level trends over the specified time period.\n",
    "\n",
    "For further information about this function uncomment the next cell."
   ]
  },
  {
   "cell_type": "code",
   "execution_count": null,
   "metadata": {},
   "outputs": [],
   "source": [
    "sea = tools.toolSea()"
   ]
  },
  {
   "cell_type": "code",
   "execution_count": null,
   "metadata": {},
   "outputs": [],
   "source": [
    "# sea.buildCurve(timeExt = [0., 100000.], timeStep = 10000., seaExt = [0, 0], \n",
    "#                    ampExt = [-120, -120.], periodExt = [100000, 100000.])\n",
    "\n",
    "sea.buildCurve(timeExt = [0., 100000.], timeStep = 10000., seaExt = [0, 0], \n",
    "                   ampExt = [0, -0.], periodExt = [100000, 100000.])\n",
    "\n",
    "sea.plotCurves(fsize=(6,8), figName = 'Sea level')"
   ]
  },
  {
   "cell_type": "code",
   "execution_count": null,
   "metadata": {},
   "outputs": [],
   "source": [
    "sea.exportCurve(nameCSV='data/sea')"
   ]
  },
  {
   "cell_type": "markdown",
   "metadata": {},
   "source": [
    "### 4. Run model"
   ]
  },
  {
   "cell_type": "code",
   "execution_count": null,
   "metadata": {},
   "outputs": [],
   "source": [
    "time = 100000.\n",
    "\n",
    "# # ### Shelf width ###\n",
    "\n",
    "model = badlandsModel()\n",
    "# Define the XmL input file\n",
    "model.load_xml('input.xml')\n",
    "# Run model\n",
    "model.run_to_time(time)"
   ]
  },
  {
   "cell_type": "markdown",
   "metadata": {},
   "source": [
    "### 5. Time slices"
   ]
  },
  {
   "cell_type": "code",
   "execution_count": null,
   "metadata": {},
   "outputs": [],
   "source": [
    "fig, ax = plt.subplots(figsize=(20, 4), ncols = 5)\n",
    "\n",
    "def time_slice(path):\n",
    "\n",
    "    x = 0\n",
    "\n",
    "    for i in [2, 4, 6, 8, 10]:\n",
    "        \n",
    "        print(i)\n",
    "\n",
    "        dataTIN = eroCatch.catchmentErosion(folder = path, timestep = i)\n",
    "        dataTIN.regridTINdataSet()\n",
    "        dataTIN.plotdataSet(data = dataTIN.dz, color='RdBu_r', depctr = [-30, -20, -10, 10, 20, 30],\n",
    "                crange=[-50, 50], erange=[0, 50000, 0, 50000], lw=0.5, size=(2, 2), ax=ax[x])\n",
    "\n",
    "        ax[x].contour(dataTIN.xi, dataTIN.yi, dataTIN.z, (0,), linestyles = 'solid',\n",
    "                  colors='k', linestyle = 'dashed', linewidths = 1.5)\n",
    "        ax[x].set_title(f'{(i * 10)} ka')\n",
    "\n",
    "        x += 1\n",
    "\n",
    "    plt.tight_layout(w_pad=2)\n",
    "    # plt.savefig('figures/ts_50sw.jpg', dpi=400)\n",
    "    \n",
    "time_slice('outputs/model')"
   ]
  },
  {
   "cell_type": "code",
   "execution_count": null,
   "metadata": {},
   "outputs": [],
   "source": []
  }
 ],
 "metadata": {
  "kernelspec": {
   "display_name": "pybad",
   "language": "python",
   "name": "pybad"
  },
  "language_info": {
   "codemirror_mode": {
    "name": "ipython",
    "version": 3
   },
   "file_extension": ".py",
   "mimetype": "text/x-python",
   "name": "python",
   "nbconvert_exporter": "python",
   "pygments_lexer": "ipython3",
   "version": "3.8.5"
  }
 },
 "nbformat": 4,
 "nbformat_minor": 4
}
