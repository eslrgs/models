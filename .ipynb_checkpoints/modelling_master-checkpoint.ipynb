{
 "cells": [
  {
   "cell_type": "markdown",
   "metadata": {
    "id": "3Sj17V3BD46P"
   },
   "source": [
    "\n",
    "<img style=\"float: right;\" src=\"data/logo.png\" width= \"200\" height = \"200\">\n",
    "\n",
    "#  Landscape evolution modelling workshop\n",
    "\n",
    "\n",
    "\n",
    "\n",
    "_____________"
   ]
  },
  {
   "cell_type": "markdown",
   "metadata": {},
   "source": [
    "* Press 'shift + enter' or 'shift + command' to run a cell, or use 'Cell' menu on the top bar\n",
    "* To clear all of the notebook outputs press 'Kernel' > 'Restart & Clear Output'\n",
    "\n"
   ]
  },
  {
   "cell_type": "code",
   "execution_count": null,
   "metadata": {},
   "outputs": [],
   "source": [
    "x = 'This is a cell, run me now' # assigns a string to a variable\n",
    "x"
   ]
  },
  {
   "cell_type": "markdown",
   "metadata": {},
   "source": [
    "______"
   ]
  },
  {
   "cell_type": "markdown",
   "metadata": {},
   "source": [
    "### Run the  cells below to install the packages we will use:\n",
    "*You only need to run these cells once, unless you restart the notebook*"
   ]
  },
  {
   "cell_type": "code",
   "execution_count": null,
   "metadata": {
    "colab": {
     "base_uri": "https://localhost:8080/",
     "height": 51,
     "output_embedded_package_id": "1EWLESaLByewcW8JUHWT9Erw9bLnslUDp"
    },
    "executionInfo": {
     "elapsed": 98084,
     "status": "ok",
     "timestamp": 1614585726097,
     "user": {
      "displayName": "Euan Soutter",
      "photoUrl": "",
      "userId": "11218536743110871253"
     },
     "user_tz": 0
    },
    "id": "ORxKyW_8D46c",
    "outputId": "7d0da000-d446-49da-b273-6d391e301881",
    "scrolled": true
   },
   "outputs": [],
   "source": [
    "# !pip install badlands\n",
    "# !pip install badlands-companion\n",
    "\n",
    "import matplotlib.pyplot as plt\n",
    "import numpy as np\n",
    "import pandas as pd\n",
    "import badlands_companion.toolGeo as simple\n",
    "import badlands_companion.toolTec as tec\n",
    "import badlands_companion.toolSea as tools\n",
    "\n",
    "from badlands.model import Model as badlandsModel\n",
    "from scripts import catchmentErosion as eroCatch\n",
    "from scripts import pyb\n",
    "\n",
    "%config InlineBackend.figure_format = 'svg' "
   ]
  },
  {
   "cell_type": "markdown",
   "metadata": {
    "id": "purp23-YD46e"
   },
   "source": [
    "______\n",
    "### 1.  Initial Surface\n",
    "\n",
    "Let's make our initial surface based on a cosine wave. \n",
    "\n",
    "We can change 3 parameters:\n",
    "\n",
    "+ the 'amplitude' of the wave (m)\n",
    "+ the 'period' of the wave (m)\n",
    "+ the 'base' of the wave (m)"
   ]
  },
  {
   "cell_type": "code",
   "execution_count": null,
   "metadata": {
    "colab": {
     "base_uri": "https://localhost:8080/",
     "height": 617
    },
    "executionInfo": {
     "elapsed": 1013,
     "status": "ok",
     "timestamp": 1614586840077,
     "user": {
      "displayName": "Euan Soutter",
      "photoUrl": "",
      "userId": "11218536743110871253"
     },
     "user_tz": 0
    },
    "id": "y9wbRL87D46e",
    "outputId": "e5079c9e-1478-4c45-b502-ec330f39547a"
   },
   "outputs": [],
   "source": [
    "amplitude = 700 # proxy for steepness\n",
    "period = 80000 # period of the surface (i.e. th)\n",
    "base = -500 # bottom of the slope (m)\n",
    "\n",
    "################\n",
    "\n",
    "wave = simple.toolGeo(extentX = [0., 50000.], extentY = [0., 50000.], dx = 500.)\n",
    "wave.Z = wave.buildWave(A = amplitude, P = period, base = base, xcenter = 0)\n",
    "wave.viewGrid(width = 600, height = 600, zmin = -1000, zmax = 1000, zData = wave.Z, title= 'Export Wave Grid')\n",
    "\n",
    "wave.buildGrid(elevation=wave.Z, nameCSV='data/xyz') # save your surface for use later in the simulation"
   ]
  },
  {
   "cell_type": "markdown",
   "metadata": {},
   "source": [
    "### 2. Erodibility"
   ]
  },
  {
   "cell_type": "markdown",
   "metadata": {},
   "source": [
    "Next we define how erodible our surface is:\n",
    "\n",
    "+ lower 'erodibility' values means rock is less able to be detached by rivers and turbidity currents"
   ]
  },
  {
   "cell_type": "code",
   "execution_count": null,
   "metadata": {},
   "outputs": [],
   "source": [
    "erodibility = 2e-6\n",
    "\n",
    "################\n",
    "\n",
    "pyb.ero('data/xyz.csv', erodibility)\n"
   ]
  },
  {
   "cell_type": "markdown",
   "metadata": {
    "id": "YJksDuzCD46g"
   },
   "source": [
    "### 3. Uplift"
   ]
  },
  {
   "cell_type": "markdown",
   "metadata": {
    "id": "JHgDb2M_D46h"
   },
   "source": [
    "Next we define how the surface will uplift through time with 3 different parameters:\n",
    "\n",
    "+ the uplift rate (in m/yr),\n",
    "+ the width of the uplifted block, from 'xmin' to 'xmax' (in m)"
   ]
  },
  {
   "cell_type": "code",
   "execution_count": null,
   "metadata": {
    "colab": {
     "base_uri": "https://localhost:8080/",
     "height": 617
    },
    "executionInfo": {
     "elapsed": 1062,
     "status": "ok",
     "timestamp": 1614586261063,
     "user": {
      "displayName": "Euan Soutter",
      "photoUrl": "",
      "userId": "11218536743110871253"
     },
     "user_tz": 0
    },
    "id": "T9cmVwljD46i",
    "outputId": "5dd8605b-86f6-4e09-8dcd-da5c8f11797c"
   },
   "outputs": [],
   "source": [
    "uplift_rate = 0.0001\n",
    "x_min = 0\n",
    "x_max = 5000\n",
    "\n",
    "################\n",
    "\n",
    "stpTec = tec.toolTec(extentX = [0., 50000.], extentY = [0., 50000.], dx = 500.)\n",
    "stpTec.disp = stpTec.stepTec(A = uplift_rate * 100000, base = 0, edge1 = x_min, edge2 = x_max, axis = 'X')\n",
    "stpTec.dispView(width = 600, height = 600, dispmin = -500, dispmax = 500, dispData = stpTec.disp, title = 'Export Step Map')\n",
    "stpTec.dispGrid(disp = stpTec.disp, nameCSV = 'data/uplift') "
   ]
  },
  {
   "cell_type": "markdown",
   "metadata": {
    "id": "W14JM23gD46j"
   },
   "source": [
    "### 4. Sea-level"
   ]
  },
  {
   "cell_type": "markdown",
   "metadata": {},
   "source": [
    "Next we define how sea-level will change through time through time:\n",
    "\n",
    "+ 'sea_fall' changes the rate and magnitude of the sea-level fall (in metres)"
   ]
  },
  {
   "cell_type": "code",
   "execution_count": null,
   "metadata": {
    "scrolled": true
   },
   "outputs": [],
   "source": [
    "sea_fall = -30\n",
    "\n",
    "################\n",
    "\n",
    "pyb.sea_plot(sea_fall)"
   ]
  },
  {
   "cell_type": "markdown",
   "metadata": {
    "id": "mPNP7sKeD46n"
   },
   "source": [
    "### 5. Run model"
   ]
  },
  {
   "cell_type": "markdown",
   "metadata": {},
   "source": [
    "Now let's bring all that together and run the model"
   ]
  },
  {
   "cell_type": "code",
   "execution_count": null,
   "metadata": {
    "colab": {
     "base_uri": "https://localhost:8080/"
    },
    "executionInfo": {
     "elapsed": 3068,
     "status": "ok",
     "timestamp": 1614586864729,
     "user": {
      "displayName": "Euan Soutter",
      "photoUrl": "",
      "userId": "11218536743110871253"
     },
     "user_tz": 0
    },
    "id": "WQEgv15iD46n",
    "outputId": "b8adccfb-f78d-4e9f-84c4-62eeca787e1f"
   },
   "outputs": [],
   "source": [
    "## RUN THIS CELL ##\n",
    "\n",
    "################\n",
    "\n",
    "model = badlandsModel()\n",
    "model.load_xml('input.xml')\n",
    "model.run_to_time(1000000.)"
   ]
  },
  {
   "cell_type": "markdown",
   "metadata": {
    "id": "m5eUT7BZD46o"
   },
   "source": [
    "### 6. Plot time slices"
   ]
  },
  {
   "cell_type": "markdown",
   "metadata": {},
   "source": [
    "Now we can look at some of our model results. Change the title to save your figures and change the colour bar range to fit your results:\n",
    "\n",
    "*!! Remember to change the title so you don't overwrite older files !!*"
   ]
  },
  {
   "cell_type": "code",
   "execution_count": null,
   "metadata": {
    "colab": {
     "base_uri": "https://localhost:8080/",
     "height": 498
    },
    "executionInfo": {
     "elapsed": 2611,
     "status": "ok",
     "timestamp": 1614586876347,
     "user": {
      "displayName": "Euan Soutter",
      "photoUrl": "",
      "userId": "11218536743110871253"
     },
     "user_tz": 0
    },
    "id": "A4eVIZdYD46o",
    "outputId": "3b15c172-6561-4d0c-e0be-cdcfffeda6da"
   },
   "outputs": [],
   "source": [
    "title = 'sea_30' \n",
    "\n",
    "crange = [-150, 150]\n",
    "\n",
    "#################\n",
    "    \n",
    "pyb.time_slice(pyb.new('outputs'), 'data/sea.csv', crange, title)"
   ]
  },
  {
   "cell_type": "markdown",
   "metadata": {},
   "source": [
    "### 7. Plot dip-sections"
   ]
  },
  {
   "cell_type": "markdown",
   "metadata": {},
   "source": [
    "We could also look at dip sections to see how the surface changed through time:\n",
    "\n",
    "*!! Remember to change the title so you don't overwrite older files !!*"
   ]
  },
  {
   "cell_type": "code",
   "execution_count": null,
   "metadata": {
    "scrolled": true
   },
   "outputs": [],
   "source": [
    "## Set file title ##\n",
    "\n",
    "title = 'sea_30'\n",
    "\n",
    "#################\n",
    "\n",
    "# %matplotlib nbagg    \n",
    "\n",
    "pyb.section(pyb.new('outputs'), title)\n"
   ]
  },
  {
   "cell_type": "code",
   "execution_count": null,
   "metadata": {},
   "outputs": [],
   "source": []
  }
 ],
 "metadata": {
  "colab": {
   "collapsed_sections": [],
   "name": "modelling.ipynb",
   "provenance": []
  },
  "kernelspec": {
   "display_name": "pybad",
   "language": "python",
   "name": "pybad"
  },
  "language_info": {
   "codemirror_mode": {
    "name": "ipython",
    "version": 3
   },
   "file_extension": ".py",
   "mimetype": "text/x-python",
   "name": "python",
   "nbconvert_exporter": "python",
   "pygments_lexer": "ipython3",
   "version": "3.8.5"
  }
 },
 "nbformat": 4,
 "nbformat_minor": 1
}
